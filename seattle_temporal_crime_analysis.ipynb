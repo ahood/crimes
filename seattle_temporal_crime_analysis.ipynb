{
 "cells": [
  {
   "cell_type": "markdown",
   "metadata": {},
   "source": [
    "# Does crime really increase in the summer?\n",
    "\n",
    "I was talking to someone about crime frequency and what affects it, and they offhandedly remarked that it's common knowledge that there's more crime in the summer. I thought that could make sense, because the pleasant nighttime temperatures could lead to more people outside at night and therefore more crimes of opportunity taking place under the cover of darkness. On the other hand, there are fewer nighttime hours overall, and on top of that, more people outside at night could mean more witnesses and hence a deterrent to crime.\n",
    "\n",
    "I imagine the answer to the question could be different depending on which city/country/neighborhood you're looking at, but I have here computed the answer for Seattle, based on the data at https://data.seattle.gov/Public-Safety/Seattle-Police-Department-Police-Report-Incident/7ais-f98f, which covers about 10 years.\n",
    "\n",
    "#### Spoiler alert: actually, overall crime in Seattle decreases in the summer. "
   ]
  },
  {
   "cell_type": "code",
   "execution_count": 120,
   "metadata": {},
   "outputs": [
    {
     "data": {
      "text/plain": [
       "<matplotlib.axes._subplots.AxesSubplot at 0x10d43c790>"
      ]
     },
     "execution_count": 120,
     "metadata": {},
     "output_type": "execute_result"
    },
    {
     "data": {
      "image/png": "[encoded data removed]",
      "text/plain": [
       "<matplotlib.figure.Figure at 0x10d43c150>"
      ]
     },
     "metadata": {},
     "output_type": "display_data"
    }
   ],
   "source": [
    "df['Season'].value_counts().plot(kind='bar')"
   ]
  },
  {
   "cell_type": "markdown",
   "metadata": {},
   "source": [
    "# Analysis summary"
   ]
  },
  {
   "cell_type": "markdown",
   "metadata": {},
   "source": [
    "In order to do a concrete analysis, I rephrased the above question as \"Is the average number of crimes on a summer day greater than or less than the average number of crimes on a non-summer day?\" and considered the number of crimes in each day in the data set as one sample value. Then I split the sample values into \n",
    "\n",
    "1. the set of the number of crimes each summer day, and\n",
    "2. the set of the number of crimes each non-summer day.\n",
    "\n",
    "[Side note: It turns out there are various definitions of summer (meteorological, astronomical, ...) so I went with the easiest one: I defined summer to mean the months of June, July, and August.]\n",
    "\n",
    "It turned out that on average, a summer day in Seattle has about 16 FEWER crimes than a non-summer day (232 vs. 248). My instinct said that this was a pretty big gap, and considering the sample size, is pretty strong evidence indicating a drop in crime during the summer months. But my instincts have been wrong from time to time (some people might even use the word \"often\") so I calculated the probability of this difference in sample means given that the underlying distributions for crimes per day is the same for summer as for non-summer days. It turned out it was pretty small, so in this instance my instincts were justified :)"
   ]
  },
  {
   "cell_type": "markdown",
   "metadata": {},
   "source": [
    "# Full analysis"
   ]
  },
  {
   "cell_type": "code",
   "execution_count": 27,
   "metadata": {},
   "outputs": [],
   "source": [
    "import pandas as pd\n",
    "import numpy as np\n",
    "import matplotlib.pyplot as plt\n",
    "import seaborn\n",
    "import os.path\n",
    "import requests\n",
    "import re\n",
    "\n",
    "from sklearn.utils import resample\n",
    "\n",
    "%matplotlib inline"
   ]
  },
  {
   "cell_type": "code",
   "execution_count": 36,
   "metadata": {},
   "outputs": [],
   "source": [
    "seattle_police_report_file = 'data/Seattle_Police_Department_Police_Report_Incident.csv'\n",
    "if not os.path.exists(seattle_police_report_file):\n",
    "    response = requests.get('https://data.seattle.gov/api/views/7ais-f98f/rows.csv?accessType=DOWNLOAD')\n",
    "    with open(seattle_police_report_file,'w') as f:\n",
    "        f.write(response.content)"
   ]
  },
  {
   "cell_type": "code",
   "execution_count": 37,
   "metadata": {},
   "outputs": [],
   "source": [
    "df = pd.read_csv(seattle_police_report_file, \n",
    "    parse_dates=[7,8,9]\n",
    ")"
   ]
  },
  {
   "cell_type": "markdown",
   "metadata": {},
   "source": [
    "For simplicity let's say\n",
    "\n",
    "* Spring runs from March 1 to May 31;\n",
    "* Summer runs from June 1 to August 31;\n",
    "* Fall (autumn) runs from September 1 to November 30; and\n",
    "* Winter runs from December 1 to February 28 (February 29 in a leap year)\n",
    "\n",
    "(taken from https://www.timeanddate.com/calendar/aboutseasons.html)."
   ]
  },
  {
   "cell_type": "code",
   "execution_count": 29,
   "metadata": {
    "collapsed": true
   },
   "outputs": [],
   "source": [
    "def to_season(month):\n",
    "    if month in [3,4,5]: return 'spring'\n",
    "    if month in [6,7,8]: return 'summer'\n",
    "    if month in [9,10,11]: return 'fall'\n",
    "    if month in [12,1,2]: return 'winter'"
   ]
  },
  {
   "cell_type": "code",
   "execution_count": 30,
   "metadata": {
    "collapsed": true
   },
   "outputs": [],
   "source": [
    "df['Season'] = df['Month'].apply(to_season)"
   ]
  },
  {
   "cell_type": "code",
   "execution_count": 121,
   "metadata": {},
   "outputs": [
    {
     "data": {
      "text/plain": [
       "<matplotlib.axes._subplots.AxesSubplot at 0x10d46bad0>"
      ]
     },
     "execution_count": 121,
     "metadata": {},
     "output_type": "execute_result"
    },
    {
     "data": {
      "image/png": "[encoded data removed]",
      "text/plain": [
       "<matplotlib.figure.Figure at 0x10d67c950>"
      ]
     },
     "metadata": {},
     "output_type": "display_data"
    }
   ],
   "source": [
    "df['Season'].value_counts().plot(kind='bar')"
   ]
  },
  {
   "cell_type": "markdown",
   "metadata": {},
   "source": [
    "Hm, doesn't look like it so far!"
   ]
  },
  {
   "cell_type": "markdown",
   "metadata": {},
   "source": [
    "## Difference in average crimes per day"
   ]
  },
  {
   "cell_type": "markdown",
   "metadata": {},
   "source": [
    "Hmm, it looks like overall crime might be lower in the summer. Let's see what the average number of crimes per day is on a summer day versus a non-summer day."
   ]
  },
  {
   "cell_type": "code",
   "execution_count": 37,
   "metadata": {
    "collapsed": true
   },
   "outputs": [],
   "source": [
    "df['Date'] = df['Occurred Date or Date Range Start'].dt.date"
   ]
  },
  {
   "cell_type": "code",
   "execution_count": 54,
   "metadata": {
    "collapsed": true
   },
   "outputs": [],
   "source": [
    "daily_crime_count = df[['Date','RMS CDW ID']].groupby('Date').agg('count').reset_index(level=0).rename(columns={'RMS CDW ID':'CrimeCount'})"
   ]
  },
  {
   "cell_type": "code",
   "execution_count": 55,
   "metadata": {},
   "outputs": [
    {
     "data": {
      "text/html": [
       "<div style=\"max-height:1000px;max-width:1500px;overflow:auto;\">\n",
       "<table border=\"1\" class=\"dataframe\">\n",
       "  <thead>\n",
       "    <tr style=\"text-align: right;\">\n",
       "      <th></th>\n",
       "      <th>Date</th>\n",
       "      <th>CrimeCount</th>\n",
       "    </tr>\n",
       "  </thead>\n",
       "  <tbody>\n",
       "    <tr>\n",
       "      <th>0</th>\n",
       "      <td> 1965-01-10</td>\n",
       "      <td> 2</td>\n",
       "    </tr>\n",
       "    <tr>\n",
       "      <th>1</th>\n",
       "      <td> 1983-01-01</td>\n",
       "      <td> 1</td>\n",
       "    </tr>\n",
       "    <tr>\n",
       "      <th>2</th>\n",
       "      <td> 1983-02-23</td>\n",
       "      <td> 2</td>\n",
       "    </tr>\n",
       "    <tr>\n",
       "      <th>3</th>\n",
       "      <td> 1989-01-01</td>\n",
       "      <td> 1</td>\n",
       "    </tr>\n",
       "    <tr>\n",
       "      <th>4</th>\n",
       "      <td> 1990-01-01</td>\n",
       "      <td> 1</td>\n",
       "    </tr>\n",
       "  </tbody>\n",
       "</table>\n",
       "</div>"
      ],
      "text/plain": [
       "         Date  CrimeCount\n",
       "0  1965-01-10           2\n",
       "1  1983-01-01           1\n",
       "2  1983-02-23           2\n",
       "3  1989-01-01           1\n",
       "4  1990-01-01           1"
      ]
     },
     "execution_count": 55,
     "metadata": {},
     "output_type": "execute_result"
    }
   ],
   "source": [
    "daily_crime_count.head()"
   ]
  },
  {
   "cell_type": "code",
   "execution_count": 58,
   "metadata": {
    "collapsed": true
   },
   "outputs": [],
   "source": [
    "daily_crime_count['Season'] = pd.to_datetime(daily_crime_count['Date']).dt.month.apply(to_season)"
   ]
  },
  {
   "cell_type": "code",
   "execution_count": 59,
   "metadata": {},
   "outputs": [
    {
     "data": {
      "text/html": [
       "<div style=\"max-height:1000px;max-width:1500px;overflow:auto;\">\n",
       "<table border=\"1\" class=\"dataframe\">\n",
       "  <thead>\n",
       "    <tr style=\"text-align: right;\">\n",
       "      <th></th>\n",
       "      <th>Date</th>\n",
       "      <th>CrimeCount</th>\n",
       "      <th>Season</th>\n",
       "    </tr>\n",
       "  </thead>\n",
       "  <tbody>\n",
       "    <tr>\n",
       "      <th>0</th>\n",
       "      <td> 1965-01-10</td>\n",
       "      <td> 2</td>\n",
       "      <td> winter</td>\n",
       "    </tr>\n",
       "    <tr>\n",
       "      <th>1</th>\n",
       "      <td> 1983-01-01</td>\n",
       "      <td> 1</td>\n",
       "      <td> winter</td>\n",
       "    </tr>\n",
       "    <tr>\n",
       "      <th>2</th>\n",
       "      <td> 1983-02-23</td>\n",
       "      <td> 2</td>\n",
       "      <td> winter</td>\n",
       "    </tr>\n",
       "    <tr>\n",
       "      <th>3</th>\n",
       "      <td> 1989-01-01</td>\n",
       "      <td> 1</td>\n",
       "      <td> winter</td>\n",
       "    </tr>\n",
       "    <tr>\n",
       "      <th>4</th>\n",
       "      <td> 1990-01-01</td>\n",
       "      <td> 1</td>\n",
       "      <td> winter</td>\n",
       "    </tr>\n",
       "  </tbody>\n",
       "</table>\n",
       "</div>"
      ],
      "text/plain": [
       "         Date  CrimeCount  Season\n",
       "0  1965-01-10           2  winter\n",
       "1  1983-01-01           1  winter\n",
       "2  1983-02-23           2  winter\n",
       "3  1989-01-01           1  winter\n",
       "4  1990-01-01           1  winter"
      ]
     },
     "execution_count": 59,
     "metadata": {},
     "output_type": "execute_result"
    }
   ],
   "source": [
    "daily_crime_count.head()"
   ]
  },
  {
   "cell_type": "code",
   "execution_count": 103,
   "metadata": {
    "collapsed": true
   },
   "outputs": [],
   "source": [
    "avg_summer = daily_crime_count.loc[daily_crime_count['Season'] == 'summer']['CrimeCount'].mean()\n",
    "avg_nonsummer = daily_crime_count.loc[daily_crime_count['Season'] != 'summer']['CrimeCount'].mean()\n",
    "actual_diff = avg_nonsummer - avg_summer"
   ]
  },
  {
   "cell_type": "code",
   "execution_count": 104,
   "metadata": {},
   "outputs": [
    {
     "name": "stdout",
     "output_type": "stream",
     "text": [
      "232.411710887\n",
      "248.510920897\n",
      "16.0992100098\n"
     ]
    }
   ],
   "source": [
    "print avg_summer\n",
    "print avg_nonsummer\n",
    "print actual_diff"
   ]
  },
  {
   "cell_type": "markdown",
   "metadata": {},
   "source": [
    "## Test for significance"
   ]
  },
  {
   "cell_type": "markdown",
   "metadata": {},
   "source": [
    "The high-level question is \"What is the probability that we arrive at this result by chance given that there is no difference in the actual mean of the two populations?\"\n",
    "\n",
    "Specifically, what is the probability that the summer mean is at least \"actual_diff\" less than the nonsummer mean?"
   ]
  },
  {
   "cell_type": "markdown",
   "metadata": {},
   "source": [
    "We have to\n",
    "\n",
    "1. Resample (with replacement) from the full set (summer + nonsummer) of daily crime counts\n",
    "    1. One set same size as summer\n",
    "    2. One set same size as nonsummer   \n",
    "2. Compute the difference of their means (nonsummer - summer).\n",
    "3. Repeat a lot of times.\n",
    "4. See what proportion of the time the difference is greater than or equal to \"actual_diff\"."
   ]
  },
  {
   "cell_type": "code",
   "execution_count": 92,
   "metadata": {
    "collapsed": true
   },
   "outputs": [],
   "source": [
    "nSummer = (daily_crime_count['Season'] == 'summer').sum()\n",
    "nNonSummer = len(daily_crime_count) - nSummer"
   ]
  },
  {
   "cell_type": "code",
   "execution_count": 97,
   "metadata": {
    "collapsed": true
   },
   "outputs": [],
   "source": [
    "nTrials = 10000\n",
    "all_samples = np.array(daily_crime_count['CrimeCount'])\n",
    "differences = np.zeros(nTrials)\n",
    "for t in range(nTrials):\n",
    "    summer_samples    = resample(all_samples, n_samples=nSummer)\n",
    "    nonsummer_samples = resample(all_samples, n_samples=nNonSummer)\n",
    "    differences[t] = nonsummer_samples.mean() - summer_samples.mean()"
   ]
  },
  {
   "cell_type": "markdown",
   "metadata": {},
   "source": [
    "A beautiful example of the central limit theorem in action:"
   ]
  },
  {
   "cell_type": "code",
   "execution_count": 122,
   "metadata": {},
   "outputs": [
    {
     "data": {
      "text/plain": [
       "<matplotlib.axes._subplots.AxesSubplot at 0x10da34fd0>"
      ]
     },
     "execution_count": 122,
     "metadata": {},
     "output_type": "execute_result"
    },
    {
     "data": {
      "image/png": "[encoded data removed]",
      "text/plain": [
       "<matplotlib.figure.Figure at 0x1095f28d0>"
      ]
     },
     "metadata": {},
     "output_type": "display_data"
    }
   ],
   "source": [
    "pd.Series(differences).hist(bins=100)"
   ]
  },
  {
   "cell_type": "markdown",
   "metadata": {},
   "source": [
    "So what proportion of the time was the difference bigger than actual_difference?"
   ]
  },
  {
   "cell_type": "code",
   "execution_count": 102,
   "metadata": {},
   "outputs": [
    {
     "data": {
      "text/plain": [
       "0.0051999999999999998"
      ]
     },
     "execution_count": 102,
     "metadata": {},
     "output_type": "execute_result"
    }
   ],
   "source": [
    "(differences >= actual_diff).mean()"
   ]
  },
  {
   "cell_type": "markdown",
   "metadata": {},
   "source": [
    "## Results"
   ]
  },
  {
   "cell_type": "markdown",
   "metadata": {},
   "source": [
    "So in Seattle, there are on average 16 fewer crimes per day during the summer as compared to the rest of the year.\n",
    "And I calculated that there is only a 0.5% probability that this difference is due to pure chance rather than an actual difference between crime rates.\n",
    "So we can safely conclude that in Seattle, at least, there are fewer crimes in the summer."
   ]
  },
  {
   "cell_type": "markdown",
   "metadata": {},
   "source": [
    "# Bonus: time of day\n",
    "\n",
    "I am (and perhaps you are) wondering if there is more crime at night during the summer, as I suspected. We can look at the average crime count per hour for summer days versus non-summer days to get a sense of this."
   ]
  },
  {
   "cell_type": "code",
   "execution_count": 135,
   "metadata": {
    "collapsed": true
   },
   "outputs": [],
   "source": [
    "df['Hour'] = df['Occurred Date or Date Range Start'].dt.hour\n",
    "df['Summer'] = df['Season'].apply(lambda s: s if s == 'summer' else 'not summer')"
   ]
  },
  {
   "cell_type": "code",
   "execution_count": 136,
   "metadata": {
    "collapsed": true
   },
   "outputs": [],
   "source": [
    "temp = df[['Summer','Hour','Date','RMS CDW ID']].groupby(\n",
    "    ['Summer','Hour','Date']).size().reset_index().groupby(\n",
    "    ['Summer','Hour']).mean().rename(columns={0:'AvgCrimeCount'}).reset_index() #/.plot(kind='bar')"
   ]
  },
  {
   "cell_type": "code",
   "execution_count": 143,
   "metadata": {},
   "outputs": [
    {
     "data": {
      "text/plain": [
       "<matplotlib.axes._subplots.AxesSubplot at 0x117069f10>"
      ]
     },
     "execution_count": 143,
     "metadata": {},
     "output_type": "execute_result"
    },
    {
     "data": {
      "image/png": "[encoded data removed]",
      "text/plain": [
       "<matplotlib.figure.Figure at 0x117076dd0>"
      ]
     },
     "metadata": {},
     "output_type": "display_data"
    }
   ],
   "source": [
    "fig, ax = plt.subplots()\n",
    "# the size of A4 paper\n",
    "fig.set_size_inches(11, 5)\n",
    "seaborn.barplot(x='Hour',y='AvgCrimeCount',hue='Summer',data=temp)"
   ]
  },
  {
   "cell_type": "markdown",
   "metadata": {},
   "source": [
    "It looks like on average crime counts are roughly the same across the year during night time hours, but that daytime crime is lower in the summer. Who knew? Also there's a mysterious spike in crime at midnight and noon for the nonsummer days that isn't occurring for the summer days. That's weird. I also feel like we should be keeping in mind that some crimes aren't discovered immediately, so these results could be skewed by delays in reporting somehow."
   ]
  }
 ],
 "metadata": {
  "kernelspec": {
   "display_name": "Python 2",
   "language": "python",
   "name": "python2"
  },
  "language_info": {
   "codemirror_mode": {
    "name": "ipython",
    "version": 2
   },
   "file_extension": ".py",
   "mimetype": "text/x-python",
   "name": "python",
   "nbconvert_exporter": "python",
   "pygments_lexer": "ipython2",
   "version": "2.7.14"
  }
 },
 "nbformat": 4,
 "nbformat_minor": 2
}
